{
  "cells": [
    {
      "cell_type": "markdown",
      "metadata": {
        "id": "0CkTxwBJA3K4"
      },
      "source": [
        "*This notebook is part of  course materials for CS 345: Machine Learning Foundations and Practice at Colorado State University.\n",
        "Original versions were created by Asa Ben-Hur.\n",
        "The content is availabe [on GitHub](https://github.com/asabenhur/CS345).*\n",
        "\n",
        "*The text is released under the [CC BY-SA license](https://creativecommons.org/licenses/by-sa/4.0/), and code is released under the [MIT license](https://opensource.org/licenses/MIT).*\n"
      ]
    },
    {
      "cell_type": "markdown",
      "metadata": {
        "id": "T1Q5WVmKA3K6"
      },
      "source": [
        "<a href=\"https://colab.research.google.com/github//asabenhur/CS345/blob/master/fall24/notebooks/module00_02_python_intro.ipynb\">\n",
        "  <img align=\"left\" src=\"https://colab.research.google.com/assets/colab-badge.svg\" alt=\"Open In Colab\"/>\n",
        "</a>"
      ]
    },
    {
      "cell_type": "markdown",
      "metadata": {
        "hideCode": false,
        "hidePrompt": false,
        "id": "A9Nn9npSNGv7"
      },
      "source": [
        "# A Python Primer\n",
        "\n",
        "This notebook is part of  course materials for CS 345: Machine Learning Foundations and Practice at Colorado State University.\n",
        "Original versions were created by Asa Ben-Hur with updates by Ross Beveridge.\n",
        "\n",
        "*The text is released under the [CC BY-SA license](https://creativecommons.org/licenses/by-sa/4.0/), and code is released under the [MIT license](https://opensource.org/licenses/MIT).*"
      ]
    },
    {
      "cell_type": "markdown",
      "metadata": {
        "hideCode": false,
        "hidePrompt": false,
        "id": "lu9cR--GNGv9"
      },
      "source": [
        "### Why Python?\n",
        "\n",
        "As it happens, Python is the most commonly used programming language in machine learning.  In our introduction to the course we argue that it is a good match for the needs of machine learning and data science, especially both for beginners and advanced users.\n",
        "\n",
        "### Why a primer?\n",
        "\n",
        "Keep in mind that students entering CS 345 generally have some exposure to Python.  That said, people forget, and also the instructors have their own priorities. For both these reasons, let us take a bit of time and walk through some Python basics."
      ]
    },
    {
      "cell_type": "markdown",
      "metadata": {
        "hideCode": false,
        "hidePrompt": false,
        "id": "oHmEhWlxNGv9"
      },
      "source": [
        "## Variables and basic Python types"
      ]
    },
    {
      "cell_type": "markdown",
      "metadata": {
        "hideCode": false,
        "hidePrompt": false,
        "id": "n8V9mIkxNGv9"
      },
      "source": [
        "Variables in Python can hold any type, and there is no need to declare them:"
      ]
    },
    {
      "cell_type": "code",
      "execution_count": null,
      "metadata": {
        "hideCode": false,
        "hidePrompt": false,
        "id": "GmicRPq4NGv9"
      },
      "outputs": [],
      "source": [
        "x = 5"
      ]
    },
    {
      "cell_type": "markdown",
      "metadata": {
        "hideCode": false,
        "hidePrompt": false,
        "id": "QCa8qykSNGv-"
      },
      "source": [
        "To determine what type of variable we created, use Python's `type` built in function:"
      ]
    },
    {
      "cell_type": "code",
      "execution_count": null,
      "metadata": {
        "colab": {
          "base_uri": "https://localhost:8080/"
        },
        "hideCode": false,
        "hidePrompt": false,
        "id": "lRwbgsGANGv-",
        "outputId": "01adc071-2cf9-4a5e-829f-7fd458d5f423"
      },
      "outputs": [
        {
          "data": {
            "text/plain": [
              "int"
            ]
          },
          "execution_count": 2,
          "metadata": {},
          "output_type": "execute_result"
        }
      ],
      "source": [
        "type(x)"
      ]
    },
    {
      "cell_type": "code",
      "execution_count": null,
      "metadata": {
        "hideCode": false,
        "hidePrompt": false,
        "id": "LAGWZ5eNNGv-"
      },
      "outputs": [],
      "source": [
        "x = 5.0"
      ]
    },
    {
      "cell_type": "code",
      "execution_count": null,
      "metadata": {
        "colab": {
          "base_uri": "https://localhost:8080/"
        },
        "hideCode": false,
        "hidePrompt": false,
        "id": "wIQIy_aMNGv_",
        "outputId": "b453da11-cefc-4fe2-855f-252ef5e266cc"
      },
      "outputs": [
        {
          "data": {
            "text/plain": [
              "float"
            ]
          },
          "execution_count": 4,
          "metadata": {},
          "output_type": "execute_result"
        }
      ],
      "source": [
        "type(x)"
      ]
    },
    {
      "cell_type": "markdown",
      "metadata": {
        "hideCode": false,
        "hidePrompt": false,
        "id": "ryW495ZmNGv_"
      },
      "source": [
        "You can coerce a value to a desired type e.g. to an `int` or a `float`:"
      ]
    },
    {
      "cell_type": "code",
      "execution_count": null,
      "metadata": {
        "colab": {
          "base_uri": "https://localhost:8080/"
        },
        "hideCode": false,
        "hidePrompt": false,
        "id": "sPyRQn26NGv_",
        "outputId": "e049cd95-d5d3-4a16-fd9e-d97469a3dec5"
      },
      "outputs": [
        {
          "data": {
            "text/plain": [
              "2"
            ]
          },
          "execution_count": 5,
          "metadata": {},
          "output_type": "execute_result"
        }
      ],
      "source": [
        "int(2.6)"
      ]
    },
    {
      "cell_type": "code",
      "execution_count": null,
      "metadata": {
        "colab": {
          "base_uri": "https://localhost:8080/"
        },
        "hideCode": false,
        "hidePrompt": false,
        "id": "CmnE6ICKNGv_",
        "outputId": "de2ecb00-f2c1-444e-b5e7-a97446226104"
      },
      "outputs": [
        {
          "data": {
            "text/plain": [
              "2.0"
            ]
          },
          "execution_count": 6,
          "metadata": {},
          "output_type": "execute_result"
        }
      ],
      "source": [
        "float(2)"
      ]
    },
    {
      "cell_type": "markdown",
      "metadata": {
        "hideCode": false,
        "hidePrompt": false,
        "id": "TbXyM7P8NGwA"
      },
      "source": [
        "All the regular mathematical operators (+, -, \\*, /, \\*\\*) work as expected.  The only distinction worth making is between the division operator (/) and the integer division operator (//):"
      ]
    },
    {
      "cell_type": "code",
      "execution_count": null,
      "metadata": {
        "colab": {
          "base_uri": "https://localhost:8080/"
        },
        "hideCode": false,
        "hidePrompt": false,
        "id": "hYa8dWW_NGwA",
        "outputId": "fb2a188a-fd98-4083-edec-855dea538153"
      },
      "outputs": [
        {
          "data": {
            "text/plain": [
              "(0.4, 0)"
            ]
          },
          "execution_count": 7,
          "metadata": {},
          "output_type": "execute_result"
        }
      ],
      "source": [
        "2/5, 2//5"
      ]
    },
    {
      "cell_type": "markdown",
      "metadata": {
        "hideCode": false,
        "hidePrompt": false,
        "id": "Y3C-f7rcNGwA"
      },
      "source": [
        "Boolean variables:"
      ]
    },
    {
      "cell_type": "code",
      "execution_count": null,
      "metadata": {
        "colab": {
          "base_uri": "https://localhost:8080/"
        },
        "hideCode": false,
        "hidePrompt": false,
        "id": "w31U7JCYNGwA",
        "outputId": "97b1fb7a-1968-4366-90f9-6c705450febb"
      },
      "outputs": [
        {
          "data": {
            "text/plain": [
              "(bool, bool)"
            ]
          },
          "execution_count": 8,
          "metadata": {},
          "output_type": "execute_result"
        }
      ],
      "source": [
        "type(True), type(False)"
      ]
    },
    {
      "cell_type": "markdown",
      "metadata": {
        "id": "KWc6itZ-A3LA"
      },
      "source": [
        "Here below is a little something to chew upon"
      ]
    },
    {
      "cell_type": "code",
      "execution_count": null,
      "metadata": {
        "id": "eJCyBOenA3LA",
        "outputId": "1ff8e939-9bbb-443d-8cff-b3032e86c76d"
      },
      "outputs": [
        {
          "data": {
            "text/plain": [
              "True"
            ]
          },
          "execution_count": 9,
          "metadata": {},
          "output_type": "execute_result"
        }
      ],
      "source": [
        "type(True) == type(False)"
      ]
    },
    {
      "cell_type": "markdown",
      "metadata": {
        "id": "3dp1no9IA3LB"
      },
      "source": [
        "## Caveats when using Jupyter notebooks\n",
        "\n",
        "Anyone familiar with programming generally takes for granted that code is excecuted in sequence.  Indeed, for any single code cell in Jupyter this rule applies.  However, if we run the following cells in an order different than their order in the notebook, this will change the end result:"
      ]
    },
    {
      "cell_type": "code",
      "execution_count": null,
      "metadata": {
        "id": "USXnYu0TA3LB"
      },
      "outputs": [],
      "source": [
        "# Run this cell second\n",
        "foo = \"Cat\""
      ]
    },
    {
      "cell_type": "code",
      "execution_count": null,
      "metadata": {
        "id": "9UycxeGlA3LC"
      },
      "outputs": [],
      "source": [
        "# Run this cell first\n",
        "foo = \"Dog\""
      ]
    },
    {
      "cell_type": "code",
      "execution_count": null,
      "metadata": {
        "id": "YQiZ5BlaA3LC",
        "outputId": "4a09b34e-68a6-4436-af0e-443cf1e48e90"
      },
      "outputs": [
        {
          "data": {
            "text/plain": [
              "'Dog'"
            ]
          },
          "execution_count": 12,
          "metadata": {},
          "output_type": "execute_result"
        }
      ],
      "source": [
        "# Run this cell third (last)\n",
        "foo"
      ]
    },
    {
      "cell_type": "markdown",
      "metadata": {
        "id": "HKDzVAOJA3LC"
      },
      "source": [
        "Since there is a human involved here, your choices will affect the end result.\n",
        "So, when turning in an assignment for example, we encourage you to execute \"Run All\" (available in the \"Cell\" pull down menu), just to make sure that everything runs as it should."
      ]
    },
    {
      "cell_type": "markdown",
      "metadata": {
        "hideCode": false,
        "hidePrompt": false,
        "id": "fw8oYM1ENGwB"
      },
      "source": [
        "## Strings and Printed Output\n",
        "Python strings are defined using single or double quotes:"
      ]
    },
    {
      "cell_type": "code",
      "execution_count": null,
      "metadata": {
        "colab": {
          "base_uri": "https://localhost:8080/",
          "height": 37
        },
        "hideCode": false,
        "hidePrompt": false,
        "id": "6GxmNV4wNGwB",
        "outputId": "07676cd2-bce0-4e53-c25f-43732df26168"
      },
      "outputs": [
        {
          "data": {
            "text/plain": [
              "'hello'"
            ]
          },
          "execution_count": 13,
          "metadata": {},
          "output_type": "execute_result"
        }
      ],
      "source": [
        "'hello'"
      ]
    },
    {
      "cell_type": "code",
      "execution_count": null,
      "metadata": {
        "colab": {
          "base_uri": "https://localhost:8080/"
        },
        "hideCode": false,
        "hidePrompt": false,
        "id": "Vr4ZosYhNGwB",
        "outputId": "603588a4-2617-4b37-ed29-3718f10ee402"
      },
      "outputs": [
        {
          "data": {
            "text/plain": [
              "str"
            ]
          },
          "execution_count": 14,
          "metadata": {},
          "output_type": "execute_result"
        }
      ],
      "source": [
        "type(\"hello\")"
      ]
    },
    {
      "cell_type": "code",
      "execution_count": null,
      "metadata": {
        "id": "zXXvgyIuA3LD",
        "outputId": "efed592e-a03b-4270-abec-15273daf0ca2"
      },
      "outputs": [
        {
          "data": {
            "text/plain": [
              "True"
            ]
          },
          "execution_count": 15,
          "metadata": {},
          "output_type": "execute_result"
        }
      ],
      "source": [
        "\"hello\" == 'hello'"
      ]
    },
    {
      "cell_type": "markdown",
      "metadata": {
        "hideCode": false,
        "hidePrompt": false,
        "id": "wuGMjCd8NGwB"
      },
      "source": [
        "When not using the notebook (or the Python interpreter), you will need to use the `print` function to display the result of a computation:"
      ]
    },
    {
      "cell_type": "code",
      "execution_count": null,
      "metadata": {
        "colab": {
          "base_uri": "https://localhost:8080/"
        },
        "hideCode": false,
        "hidePrompt": false,
        "id": "d9BTLG9eNGwB",
        "outputId": "11077ad7-6125-481d-a128-695dd7bc51fd"
      },
      "outputs": [
        {
          "name": "stdout",
          "output_type": "stream",
          "text": [
            "Hello World!\n"
          ]
        }
      ],
      "source": [
        "print('Hello World!')"
      ]
    },
    {
      "cell_type": "markdown",
      "metadata": {
        "hideCode": false,
        "hidePrompt": false,
        "id": "iXo92o9LNGwC"
      },
      "source": [
        "Notice that in this case there is no \"`Out[ ]`\" message, as this is not an output of the evaluation.\n",
        "\n",
        "Also keep in mind that the Jupyter notebook will only output the result of only the last command in a code cell, another reason why you do sometimes need to use print() in the notebook."
      ]
    },
    {
      "cell_type": "code",
      "execution_count": null,
      "metadata": {
        "id": "ST6uIsnoA3LE",
        "outputId": "3a92f36b-d305-4ee2-85b3-5362a6cf4074"
      },
      "outputs": [
        {
          "data": {
            "text/plain": [
              "'hello Python'"
            ]
          },
          "execution_count": 17,
          "metadata": {},
          "output_type": "execute_result"
        }
      ],
      "source": [
        "\"hello world\"\n",
        "\"hello Python\""
      ]
    },
    {
      "cell_type": "markdown",
      "metadata": {
        "id": "pVYiG7zOA3LE"
      },
      "source": [
        "### Formatting Printed Output\n",
        "\n",
        "Printing out useful information for the user about the state of a computation.  But generating a string that conveys the information in a readable form might require a bit of work.  That's where [formatted string literals](https://docs.python.org/3/tutorial/inputoutput.html), or f-strings for short, come in.  Here's an example:"
      ]
    },
    {
      "cell_type": "code",
      "execution_count": null,
      "metadata": {
        "id": "LqiNNbUtA3LF",
        "outputId": "b3fef193-c8d5-4b0a-8cf6-ebb06a3f0c83"
      },
      "outputs": [
        {
          "name": "stdout",
          "output_type": "stream",
          "text": [
            "The Cat weighs  3.14 pounds.\n"
          ]
        }
      ],
      "source": [
        "import math\n",
        "foo = \"Cat\"\n",
        "print(f'The {foo} weighs {math.pi:5.2f} pounds.')"
      ]
    },
    {
      "cell_type": "markdown",
      "metadata": {
        "hideCode": false,
        "hidePrompt": false,
        "id": "Uxxhamh7NGwC"
      },
      "source": [
        "## Lists\n",
        "\n",
        "A list is an ordered collection of values, where each value is identified by an index; Python lists are analogous to Java's `ArrayList` data structure, but have greater flexibility.\n",
        "\n",
        "Let's create a few lists:"
      ]
    },
    {
      "cell_type": "code",
      "execution_count": null,
      "metadata": {
        "hideCode": false,
        "hidePrompt": false,
        "id": "nWN2qMGtNGwC"
      },
      "outputs": [],
      "source": [
        "vocabulary = [\"ameliorate\", \"castigate\", \"defenestrate\"]\n",
        "numbers = [17, 123]\n",
        "mixed_list = [1, 'one', 2.21, [1,2,3]]\n",
        "empty = []"
      ]
    },
    {
      "cell_type": "markdown",
      "metadata": {
        "hideCode": false,
        "hidePrompt": false,
        "id": "zcVx8g8QNGwC"
      },
      "source": [
        "That last list we created is the empty list.\n",
        "You can ask a list for its length:"
      ]
    },
    {
      "cell_type": "code",
      "execution_count": null,
      "metadata": {
        "colab": {
          "base_uri": "https://localhost:8080/"
        },
        "hideCode": false,
        "hidePrompt": false,
        "id": "DSkCzsiMNGwC",
        "outputId": "d06b70fd-fb31-4623-874c-2d6f8bb048ec"
      },
      "outputs": [
        {
          "data": {
            "text/plain": [
              "0"
            ]
          },
          "execution_count": 20,
          "metadata": {},
          "output_type": "execute_result"
        }
      ],
      "source": [
        "len([])"
      ]
    },
    {
      "cell_type": "markdown",
      "metadata": {
        "hideCode": false,
        "hidePrompt": false,
        "id": "rck7vum1NGwD"
      },
      "source": [
        "You can append an element to a list using its ```append``` method:"
      ]
    },
    {
      "cell_type": "code",
      "execution_count": null,
      "metadata": {
        "hideCode": false,
        "hidePrompt": false,
        "id": "OcmLhVV6NGwD",
        "outputId": "9a3f986a-3bfe-4296-fffa-31f65a397faa"
      },
      "outputs": [
        {
          "data": {
            "text/plain": [
              "['ameliorate', 'castigate', 'defenestrate', 'your favorite word']"
            ]
          },
          "execution_count": 21,
          "metadata": {},
          "output_type": "execute_result"
        }
      ],
      "source": [
        "vocabulary = [\"ameliorate\", \"castigate\", \"defenestrate\"]\n",
        "vocabulary.append('your favorite word')\n",
        "vocabulary"
      ]
    },
    {
      "cell_type": "markdown",
      "metadata": {
        "hideCode": false,
        "hidePrompt": false,
        "id": "EtLNMH4HNGwD"
      },
      "source": [
        "If you want to find out what a method does or other methods that an object has, use Python's ```help``` function:"
      ]
    },
    {
      "cell_type": "code",
      "execution_count": null,
      "metadata": {
        "colab": {
          "base_uri": "https://localhost:8080/"
        },
        "hideCode": false,
        "hidePrompt": false,
        "id": "MkKWpka0NGwD",
        "outputId": "5a01cb9b-8716-4c66-fc9a-155c5fa68227"
      },
      "outputs": [
        {
          "name": "stdout",
          "output_type": "stream",
          "text": [
            "Help on method_descriptor:\n",
            "\n",
            "append(self, object, /)\n",
            "    Append object to the end of the list.\n",
            "\n"
          ]
        }
      ],
      "source": [
        "help(list.append)"
      ]
    },
    {
      "cell_type": "markdown",
      "metadata": {
        "hideCode": false,
        "hidePrompt": false,
        "id": "GyqYJjkzNGwD"
      },
      "source": [
        "### List indexing\n",
        "\n",
        "Elements of a list are accessed using the bracket operator, and like in Java, indexing starts at 0.\n"
      ]
    },
    {
      "cell_type": "code",
      "execution_count": null,
      "metadata": {
        "colab": {
          "base_uri": "https://localhost:8080/"
        },
        "hideCode": false,
        "hidePrompt": false,
        "id": "LiHEVEldNGwD",
        "outputId": "730c0e46-9f3c-4f88-900d-ae6b56e70769"
      },
      "outputs": [
        {
          "name": "stdout",
          "output_type": "stream",
          "text": [
            "17\n",
            "123\n"
          ]
        }
      ],
      "source": [
        "numbers = [17, 123]\n",
        "print(numbers[0])\n",
        "print(numbers[1])"
      ]
    },
    {
      "cell_type": "markdown",
      "metadata": {
        "hideCode": false,
        "hidePrompt": false,
        "id": "h2VChgcPNGwE"
      },
      "source": [
        "You can also try to see what happens when you try to use an index that is greater or equal to the length of the list.\n",
        "\n",
        "In Python an index can take a **negative** value.  Can you figure out what that does?"
      ]
    },
    {
      "cell_type": "code",
      "execution_count": null,
      "metadata": {
        "hideCode": false,
        "hidePrompt": false,
        "id": "2eX24p_WNGwE"
      },
      "outputs": [],
      "source": [
        "# write a snippet of code that accesses a list at indices with negative values"
      ]
    },
    {
      "cell_type": "markdown",
      "metadata": {
        "hideCode": false,
        "hidePrompt": false,
        "id": "RRQb0nptNGwE"
      },
      "source": [
        "### Traversing a list\n",
        "\n",
        "It is common to iterate through the elements of a list using a `for` loop:"
      ]
    },
    {
      "cell_type": "code",
      "execution_count": null,
      "metadata": {
        "colab": {
          "base_uri": "https://localhost:8080/"
        },
        "hideCode": false,
        "hidePrompt": false,
        "id": "lFwtAJHqNGwE",
        "outputId": "151fc202-ffa1-463c-c33b-5e6d0f53178c"
      },
      "outputs": [
        {
          "name": "stdout",
          "output_type": "stream",
          "text": [
            "ameliorate\n",
            "castigate\n",
            "defenestrate\n",
            "cat\n"
          ]
        }
      ],
      "source": [
        "words = [\"ameliorate\", \"castigate\", \"defenestrate\", 'cat']\n",
        "for word in words :\n",
        "    print(word)"
      ]
    },
    {
      "cell_type": "markdown",
      "metadata": {
        "hideCode": false,
        "hidePrompt": false,
        "id": "1T8iiqH0NGwE"
      },
      "source": [
        "Note the use of indentation to define a block.  Python does not use braces {  } the way Java and C do.  When using indentation you have to be consistent, and this is one aspect of Python that may take getting used to."
      ]
    },
    {
      "cell_type": "markdown",
      "metadata": {
        "hideCode": false,
        "hidePrompt": false,
        "id": "coaOVVYENGwF"
      },
      "source": [
        "Another way to iterate over the elements of a list is using the `range` function:"
      ]
    },
    {
      "cell_type": "code",
      "execution_count": null,
      "metadata": {
        "colab": {
          "base_uri": "https://localhost:8080/"
        },
        "hideCode": false,
        "hidePrompt": false,
        "id": "TV3gwCcYNGwF",
        "outputId": "91d2fcfb-fda0-453c-cfb5-7db824d0e0ec"
      },
      "outputs": [
        {
          "data": {
            "text/plain": [
              "['AMELIORATE', 'CASTIGATE', 'DEFENESTRATE']"
            ]
          },
          "execution_count": 26,
          "metadata": {},
          "output_type": "execute_result"
        }
      ],
      "source": [
        "words = [\"ameliorate\", \"castigate\", \"defenestrate\"]\n",
        "for i in range(len(words)) :\n",
        "    words[i] = words[i].upper()\n",
        "\n",
        "words"
      ]
    },
    {
      "cell_type": "markdown",
      "metadata": {
        "hideCode": false,
        "hidePrompt": false,
        "outputId": "91d2fcfb-fda0-453c-cfb5-7db824d0e0ec",
        "id": "2VbSSxgRA3LP"
      },
      "source": [
        "Although more cumbersome, it is useful when you need access to the index of each item, as we do here."
      ]
    },
    {
      "cell_type": "markdown",
      "metadata": {
        "id": "VQ-aqeEnA3LP"
      },
      "source": [
        "### More about range\n",
        "\n",
        "The ability to generate sequences quickly and easily with a simple syntax is very useful"
      ]
    },
    {
      "cell_type": "markdown",
      "metadata": {
        "hideCode": false,
        "hidePrompt": false,
        "id": "dAd2qAnXNGwF"
      },
      "source": [
        "Starting simple, the call to\n",
        "```python\n",
        "range(stop)\n",
        "```\n",
        "\n",
        "produces the integers from 0 to (and not including) stop.  It actually has more flexibility: the more general call\n",
        "\n",
        "```python\n",
        "range(start, stop[, step])\n",
        "```\n",
        "produces the integers from a start until stop (not including).  \n",
        "\n",
        "The optional step parameter determines the increment, which is 1 by default.\n",
        "For example:\n"
      ]
    },
    {
      "cell_type": "code",
      "execution_count": null,
      "metadata": {
        "colab": {
          "base_uri": "https://localhost:8080/"
        },
        "hideCode": false,
        "hidePrompt": false,
        "id": "w3Jc5-OUNGwF",
        "outputId": "4d2cb862-1312-4a0e-8369-5b1f23ae69b0"
      },
      "outputs": [
        {
          "name": "stdout",
          "output_type": "stream",
          "text": [
            "1\n",
            "3\n",
            "5\n",
            "7\n",
            "9\n"
          ]
        }
      ],
      "source": [
        "for i in range(1,10,2) : print (i)"
      ]
    },
    {
      "cell_type": "markdown",
      "metadata": {
        "id": "XSV4fymwA3LP"
      },
      "source": [
        "Another aspect of Python, if in doubt, ask."
      ]
    },
    {
      "cell_type": "code",
      "execution_count": null,
      "metadata": {
        "hideCode": false,
        "hidePrompt": false,
        "id": "xPWwQtg3NGwF"
      },
      "outputs": [],
      "source": [
        "?range"
      ]
    },
    {
      "cell_type": "markdown",
      "metadata": {
        "hideCode": false,
        "hidePrompt": false,
        "id": "KrggirHyNGwG"
      },
      "source": [
        "### Creating lists\n",
        "\n",
        "Here's Python code that creates a list that contains the first n squares:"
      ]
    },
    {
      "cell_type": "code",
      "execution_count": null,
      "metadata": {
        "colab": {
          "base_uri": "https://localhost:8080/"
        },
        "hideCode": false,
        "hidePrompt": false,
        "id": "qaopYKCGNGwG",
        "outputId": "b654c5ff-9907-4530-d5c0-85b6041bc8cc"
      },
      "outputs": [
        {
          "name": "stdout",
          "output_type": "stream",
          "text": [
            "[1, 4, 9, 16, 25]\n"
          ]
        }
      ],
      "source": [
        "n = 5\n",
        "squares = []\n",
        "for i in range(1, n+1):\n",
        "    squares.append(i**2)\n",
        "print(squares)"
      ]
    },
    {
      "cell_type": "markdown",
      "metadata": {
        "hideCode": false,
        "hidePrompt": false,
        "id": "3Prmr_NHNGwH"
      },
      "source": [
        "### List comprehensions\n",
        "\n",
        "Python provides a more elegant way of creating lists using the so-called *list comprehensions*:"
      ]
    },
    {
      "cell_type": "code",
      "execution_count": null,
      "metadata": {
        "colab": {
          "base_uri": "https://localhost:8080/"
        },
        "hideCode": false,
        "hidePrompt": false,
        "id": "rhjHSTDTNGwH",
        "outputId": "b462e8ee-ff8f-48f6-dd9f-4094503d8e92"
      },
      "outputs": [
        {
          "name": "stdout",
          "output_type": "stream",
          "text": [
            "[1, 4, 9, 16, 25]\n"
          ]
        }
      ],
      "source": [
        "n=5\n",
        "squares = [i * i for i in range(1, n+1)]\n",
        "print(squares)"
      ]
    },
    {
      "cell_type": "markdown",
      "metadata": {
        "hideCode": false,
        "hidePrompt": false,
        "id": "jnD6H8MqNGwH"
      },
      "source": [
        "List comprehensions can contain an `if` clause that serves as a filter:"
      ]
    },
    {
      "cell_type": "code",
      "execution_count": null,
      "metadata": {
        "colab": {
          "base_uri": "https://localhost:8080/"
        },
        "hideCode": false,
        "hidePrompt": false,
        "id": "bOEoxm97NGwH",
        "outputId": "d382e7e7-0b66-4f11-ed10-87564b8b0915"
      },
      "outputs": [
        {
          "name": "stdout",
          "output_type": "stream",
          "text": [
            "[1, 81, 36, 16]\n"
          ]
        }
      ],
      "source": [
        "a_list = [1, '4', 9, 'a', 6, 4]\n",
        "squares = [ e**2 for e in a_list if type(e) == int ]\n",
        "print (squares)"
      ]
    },
    {
      "cell_type": "markdown",
      "metadata": {
        "id": "BCg23aM8A3LR"
      },
      "source": [
        "Note also that lists may contain elements of differing type, in this case integers and strings\n",
        "\n",
        "And what gest put into the new list may itself be a list"
      ]
    },
    {
      "cell_type": "code",
      "execution_count": null,
      "metadata": {
        "id": "F6BBdaNaA3LR",
        "outputId": "aa922ea3-2615-4488-820e-371cc332e8f8"
      },
      "outputs": [
        {
          "data": {
            "text/plain": [
              "[[1, 1], [2, 4], [3, 9], [4, 16], [5, 25]]"
            ]
          },
          "execution_count": 32,
          "metadata": {},
          "output_type": "execute_result"
        }
      ],
      "source": [
        "n = 5\n",
        "square_pairs = [ [i, i*i] for i in range(1, n+1)]\n",
        "square_pairs"
      ]
    },
    {
      "cell_type": "markdown",
      "metadata": {
        "id": "AppPIBCMA3LR"
      },
      "source": [
        "## Slices\n",
        "\n",
        "Slices allow you to create sublists.  To familiarize yourselves with slices, create a list called `values` and try out the following commands:\n",
        "```python\n",
        "values[1:3]  \n",
        "values[2:-1]\n",
        "values[:2]   \n",
        "values[2:]   \n",
        "values[::2] # this last value is the stride\n",
        "```\n",
        "Using slices you can also solve the second exercise using a single statement.  Hint:  negative strides.\n",
        "Slices also apply to strings much the same way they apply to lists - try it out!"
      ]
    },
    {
      "cell_type": "code",
      "execution_count": 1,
      "metadata": {
        "id": "vJTweGiuA3LR",
        "outputId": "6bc491c8-0041-47d5-e6a4-dfe46e528fdc",
        "colab": {
          "base_uri": "https://localhost:8080/"
        }
      },
      "outputs": [
        {
          "output_type": "stream",
          "name": "stdout",
          "text": [
            "[2, 3]\n",
            "[3]\n",
            "[1, 2]\n",
            "[3, 4]\n",
            "[1, 3]\n"
          ]
        }
      ],
      "source": [
        "values = [1,2,3,4]\n",
        "print(values[1:3])\n",
        "print(values[2:-1])\n",
        "print(values[:2])\n",
        "print(values[2:])\n",
        "print(values[::2])"
      ]
    },
    {
      "cell_type": "markdown",
      "metadata": {
        "id": "O44a5KskA3LS"
      },
      "source": [
        "## Map\n",
        "\n",
        "While explicit iteration is univerally recognized as important, the equally important and sometimes more useful notion of mapping an operation of a list is comparatively neglected. Consider again the simple task of squaring values in a list:"
      ]
    },
    {
      "cell_type": "code",
      "execution_count": 2,
      "metadata": {
        "id": "CQttJwdSA3LS",
        "outputId": "5da43f41-a614-43a6-be7c-71de8c85c626",
        "colab": {
          "base_uri": "https://localhost:8080/"
        }
      },
      "outputs": [
        {
          "output_type": "stream",
          "name": "stdout",
          "text": [
            "<map object at 0x7ac3cfa1a8f0>\n",
            "[1, 4, 9, 16, 25]\n",
            "[]\n"
          ]
        }
      ],
      "source": [
        "foo = [1, 2, 3, 4, 5]\n",
        "\n",
        "def sq(val) :\n",
        "    return val * val\n",
        "\n",
        "bar = map(sq, foo)\n",
        "print(bar)\n",
        "print(list(bar))\n",
        "print(list(bar))"
      ]
    },
    {
      "cell_type": "code",
      "execution_count": 3,
      "metadata": {
        "id": "-CxVOeQcA3LS",
        "outputId": "46d91007-5f75-48db-fe9e-5fa12fe17706",
        "colab": {
          "base_uri": "https://localhost:8080/"
        }
      },
      "outputs": [
        {
          "output_type": "stream",
          "name": "stdout",
          "text": [
            "\n"
          ]
        }
      ],
      "source": [
        "print()"
      ]
    },
    {
      "cell_type": "markdown",
      "metadata": {
        "id": "J04bBp2hA3LS"
      },
      "source": [
        "Consider the following bit-of-a-puzzle.  What appears in output?  What is the value of variable ```bar```"
      ]
    },
    {
      "cell_type": "code",
      "execution_count": null,
      "metadata": {
        "id": "tUU4K_CXA3LT",
        "outputId": "3a5c00df-5dcb-40e5-f467-de13c500e0d4"
      },
      "outputs": [
        {
          "name": "stdout",
          "output_type": "stream",
          "text": [
            "ameliorate\n",
            "castigate\n",
            "defenestrate\n"
          ]
        },
        {
          "data": {
            "text/plain": [
              "[None, None, None]"
            ]
          },
          "execution_count": 35,
          "metadata": {},
          "output_type": "execute_result"
        }
      ],
      "source": [
        "words = [\"ameliorate\", \"castigate\", \"defenestrate\"]\n",
        "foomap = map(print,words)\n",
        "bar = list(foomap)\n",
        "bar"
      ]
    },
    {
      "cell_type": "markdown",
      "source": [
        "Appearing in the output is ameliorate newline castigate newline defenestrate newline and list [None, None, None]. The value of bar is [None, None, None]. In the previous example, bar = map(sq, foo) where sq is a method to square a given input and foo is a list of numbers. So foomap = map(print,words) print must be the function print, which uses words as input. Then, bar lists the values in foomap. So why does bar contain None?"
      ],
      "metadata": {
        "id": "j5AWFVZVCCu8"
      }
    },
    {
      "cell_type": "markdown",
      "metadata": {
        "hideCode": false,
        "hidePrompt": false,
        "id": "Ypp25xCKNGwI"
      },
      "source": [
        "## Boolean Expressions\n",
        "\n",
        "Here are some of the Boolean comparison operators in Python:"
      ]
    },
    {
      "cell_type": "markdown",
      "metadata": {
        "hideCode": false,
        "hidePrompt": false,
        "id": "MbygjM1FNGwI"
      },
      "source": [
        "Comparison Operators:\n",
        "```python\n",
        "      x == y               # x is equal to y\n",
        "      x != y               # x is not equal to y\n",
        "      x > y                # x is greater than y\n",
        "      x < y                # x is less than y\n",
        "      x >= y               # x is greater than or equal to y\n",
        "      x <= y               # x is less than or equal to y\n",
        "      x is y               # x is the same as y\n",
        "```      \n",
        "For example:"
      ]
    },
    {
      "cell_type": "code",
      "execution_count": null,
      "metadata": {
        "colab": {
          "base_uri": "https://localhost:8080/"
        },
        "hideCode": false,
        "hidePrompt": false,
        "id": "S0LquQzmNGwI",
        "outputId": "9b3060e0-6a3c-4b24-d270-f84f09200af5"
      },
      "outputs": [
        {
          "data": {
            "text/plain": [
              "False"
            ]
          },
          "execution_count": 36,
          "metadata": {},
          "output_type": "execute_result"
        }
      ],
      "source": [
        " 3 < 1\n"
      ]
    },
    {
      "cell_type": "markdown",
      "metadata": {
        "hideCode": false,
        "hidePrompt": false,
        "id": "5bBgLI-8NGwI"
      },
      "source": [
        "## Logical operators\n",
        "In Python, logical operators are written in plain English, so our familiar  logical operators are expressed as:\n",
        "`and`, `or`, and `not`. Here are some examples:"
      ]
    },
    {
      "cell_type": "code",
      "execution_count": null,
      "metadata": {
        "colab": {
          "base_uri": "https://localhost:8080/"
        },
        "hideCode": false,
        "hidePrompt": false,
        "id": "i4pOqNGdNGwI",
        "outputId": "1b6113d9-534e-47da-c882-ee1ac23ff580"
      },
      "outputs": [
        {
          "name": "stdout",
          "output_type": "stream",
          "text": [
            "False\n",
            "True\n",
            "True\n"
          ]
        }
      ],
      "source": [
        "print(3 < 1 and 3 > 1)\n",
        "print(3 < 1 or 3 > 1)\n",
        "print(not(3 < 1) and 3 > 1)"
      ]
    },
    {
      "cell_type": "markdown",
      "metadata": {
        "hideCode": false,
        "hidePrompt": false,
        "id": "MNMWQY3tNGwI"
      },
      "source": [
        "Whenever in doubt about precedence, use parentheses!"
      ]
    },
    {
      "cell_type": "markdown",
      "metadata": {
        "hideCode": false,
        "hidePrompt": false,
        "id": "PwLoAwrGNGwJ"
      },
      "source": [
        "The general syntax for `if` statements:\n",
        "\n",
        "```python\n",
        "if condition1 is true:\n",
        "    block of code\n",
        "elif condition2 is true:\n",
        "    block of code\n",
        "else:\n",
        "    block of code\n",
        "```"
      ]
    },
    {
      "cell_type": "markdown",
      "metadata": {
        "hideCode": false,
        "hidePrompt": false,
        "id": "FpgMhuNfNGwJ"
      },
      "source": [
        "Let's put everything we've learned so far to write a snippet of code that prints the maximum value from a list:"
      ]
    },
    {
      "cell_type": "code",
      "execution_count": null,
      "metadata": {
        "colab": {
          "base_uri": "https://localhost:8080/"
        },
        "hideCode": false,
        "hidePrompt": false,
        "id": "fglcLqkPNGwJ",
        "outputId": "adc0ae64-a1ad-47a5-9da5-f56e64df4fae"
      },
      "outputs": [
        {
          "name": "stdout",
          "output_type": "stream",
          "text": [
            "42\n"
          ]
        }
      ],
      "source": [
        "a_list = [1, 5, 23, -3, 42]\n",
        "m = a_list[0]\n",
        "for element in a_list[1:] :\n",
        "    if element > m :\n",
        "        m = element\n",
        "print(m)"
      ]
    },
    {
      "cell_type": "markdown",
      "metadata": {
        "id": "vX1WiyMiA3LU"
      },
      "source": [
        "## Python Functions\n",
        "\n",
        "The above code snippet is useful as a function callable elsewhere."
      ]
    },
    {
      "cell_type": "code",
      "execution_count": null,
      "metadata": {
        "colab": {
          "base_uri": "https://localhost:8080/"
        },
        "hideCode": false,
        "hidePrompt": false,
        "id": "ElT84gEFNGwJ",
        "outputId": "4b95155c-d895-4e90-a3d6-cd69e8e68865"
      },
      "outputs": [
        {
          "name": "stdout",
          "output_type": "stream",
          "text": [
            "The function returns: 23\n"
          ]
        }
      ],
      "source": [
        "def list_max(a_list) :\n",
        "    m = a_list[0]\n",
        "    for element in a_list[1:] :\n",
        "        if element > m :\n",
        "            m = element\n",
        "    return m\n",
        "\n",
        "print(f'The function returns: {list_max([1,5,23,-3])}')"
      ]
    },
    {
      "cell_type": "markdown",
      "metadata": {
        "hideCode": false,
        "hidePrompt": false,
        "id": "Ej7GiIoDNGwK"
      },
      "source": [
        "Functions are defined using the `def` reserved word, and `return` is used to return a value.\n",
        "Note that we did not call our function `max`, because that would have shadowed Python's built-in function:"
      ]
    },
    {
      "cell_type": "code",
      "execution_count": null,
      "metadata": {
        "colab": {
          "base_uri": "https://localhost:8080/"
        },
        "hideCode": false,
        "hidePrompt": false,
        "id": "gJW0CK4dNGwK",
        "outputId": "ee6cb17f-b255-4b93-92bc-ad918f58348d"
      },
      "outputs": [
        {
          "data": {
            "text/plain": [
              "23"
            ]
          },
          "execution_count": 40,
          "metadata": {},
          "output_type": "execute_result"
        }
      ],
      "source": [
        "max([1,5,23,-3])"
      ]
    },
    {
      "cell_type": "markdown",
      "metadata": {
        "hideCode": false,
        "hidePrompt": false,
        "id": "5HBZ7fkHNGwL"
      },
      "source": [
        "## The Special Value `None`\n"
      ]
    },
    {
      "cell_type": "markdown",
      "metadata": {
        "hideCode": false,
        "hidePrompt": false,
        "id": "975bRMr_NGwK"
      },
      "source": [
        "Let's see what happens if we forget to return a value from our function:\n"
      ]
    },
    {
      "cell_type": "code",
      "execution_count": 4,
      "metadata": {
        "colab": {
          "base_uri": "https://localhost:8080/"
        },
        "hideCode": false,
        "hidePrompt": false,
        "id": "Pptd38WjNGwL",
        "outputId": "360a1c01-bddd-466f-9763-ef151ce96f74"
      },
      "outputs": [
        {
          "output_type": "stream",
          "name": "stdout",
          "text": [
            "None\n"
          ]
        }
      ],
      "source": [
        "def list_max(a_list) :\n",
        "    m = a_list[0]\n",
        "    for element in a_list[1:] :\n",
        "        if element > m :\n",
        "            m = element\n",
        "\n",
        "print(list_max([1,5,23,-3]))"
      ]
    },
    {
      "cell_type": "markdown",
      "metadata": {
        "id": "P9pBw4UtA3LV"
      },
      "source": [
        "What happened is that the special value `None` got returned. Most programming languages have an agreed upon way of indicating what might in English translate as *I really have nothing I can say or return to you at this point*."
      ]
    },
    {
      "cell_type": "code",
      "execution_count": null,
      "metadata": {
        "colab": {
          "base_uri": "https://localhost:8080/"
        },
        "hideCode": false,
        "hidePrompt": false,
        "id": "Mwno-ptiNGwL",
        "outputId": "14d251c0-cc50-42de-ce8d-277839b376fe"
      },
      "outputs": [
        {
          "name": "stdout",
          "output_type": "stream",
          "text": [
            "None\n",
            "<class 'NoneType'>\n"
          ]
        }
      ],
      "source": [
        "print(None)\n",
        "print(type(None))"
      ]
    },
    {
      "cell_type": "markdown",
      "metadata": {
        "hideCode": false,
        "hidePrompt": false,
        "id": "54J2cNL3NGwL"
      },
      "source": [
        "## Function Documentation Headers\n",
        "\n",
        "There is special syntax for multiline string literals"
      ]
    },
    {
      "cell_type": "code",
      "execution_count": null,
      "metadata": {
        "colab": {
          "base_uri": "https://localhost:8080/",
          "height": 516
        },
        "hideCode": false,
        "hidePrompt": false,
        "id": "YhTX5E-TNGwM",
        "outputId": "aa05c47d-8754-499f-cf92-d6161891217b"
      },
      "outputs": [
        {
          "data": {
            "text/plain": [
              "'hello\\nmultiline strings!'"
            ]
          },
          "execution_count": 43,
          "metadata": {},
          "output_type": "execute_result"
        }
      ],
      "source": [
        "'''hello\n",
        "multiline strings!'''"
      ]
    },
    {
      "cell_type": "markdown",
      "metadata": {
        "hideCode": false,
        "hidePrompt": false,
        "id": "Gk1X3itkNGwM"
      },
      "source": [
        "These are often used for function documentation"
      ]
    },
    {
      "cell_type": "code",
      "execution_count": null,
      "metadata": {
        "hideCode": false,
        "hidePrompt": false,
        "id": "NRCl_Ez4NGwM"
      },
      "outputs": [],
      "source": [
        "def my_function():\n",
        "    '''This function currently does nothing'''\n",
        "    pass"
      ]
    },
    {
      "cell_type": "code",
      "execution_count": 5,
      "metadata": {
        "colab": {
          "base_uri": "https://localhost:8080/",
          "height": 143
        },
        "hideCode": false,
        "hidePrompt": false,
        "id": "YOHRJGZ_NGwM",
        "outputId": "1e64e723-79b6-4304-f84e-0ef93a1865fb"
      },
      "outputs": [
        {
          "output_type": "error",
          "ename": "NameError",
          "evalue": "name 'my_function' is not defined",
          "traceback": [
            "\u001b[0;31m---------------------------------------------------------------------------\u001b[0m",
            "\u001b[0;31mNameError\u001b[0m                                 Traceback (most recent call last)",
            "\u001b[0;32m/tmp/ipython-input-4277544030.py\u001b[0m in \u001b[0;36m<cell line: 0>\u001b[0;34m()\u001b[0m\n\u001b[0;32m----> 1\u001b[0;31m \u001b[0mmy_function\u001b[0m\u001b[0;34m\u001b[0m\u001b[0;34m\u001b[0m\u001b[0m\n\u001b[0m",
            "\u001b[0;31mNameError\u001b[0m: name 'my_function' is not defined"
          ]
        }
      ],
      "source": [
        "my_function"
      ]
    },
    {
      "cell_type": "code",
      "execution_count": null,
      "metadata": {
        "colab": {
          "base_uri": "https://localhost:8080/"
        },
        "hideCode": false,
        "hidePrompt": false,
        "id": "z0SLbHAtNGwM",
        "outputId": "82fdc947-833e-4a1b-f787-d9a302a44e66"
      },
      "outputs": [
        {
          "name": "stdout",
          "output_type": "stream",
          "text": [
            "Help on function my_function in module __main__:\n",
            "\n",
            "my_function()\n",
            "    This function currently does nothing\n",
            "\n"
          ]
        }
      ],
      "source": [
        "help(my_function)"
      ]
    },
    {
      "cell_type": "markdown",
      "metadata": {
        "hideCode": false,
        "hidePrompt": false,
        "id": "JbXN-DjmNGwN"
      },
      "source": [
        "## Pass By Reference/Value?\n",
        "\n",
        "Let's consider how lists are passed to a function, by reference or by value:"
      ]
    },
    {
      "cell_type": "code",
      "execution_count": null,
      "metadata": {
        "colab": {
          "base_uri": "https://localhost:8080/"
        },
        "hideCode": false,
        "hidePrompt": false,
        "id": "ScaN7V-gNGwN",
        "outputId": "5e5059ec-6901-4c8f-d171-ef4873103ed1"
      },
      "outputs": [
        {
          "data": {
            "text/plain": [
              "[4, 10, 'SpamSpam', 19.0]"
            ]
          },
          "execution_count": 47,
          "metadata": {},
          "output_type": "execute_result"
        }
      ],
      "source": [
        "def double_values(a_list) :\n",
        "    for index, value in enumerate(a_list) :\n",
        "        a_list[index] = 2 * value\n",
        "    pass\n",
        "\n",
        "things = [2, 5, 'Spam', 9.5]\n",
        "double_values(things)\n",
        "things"
      ]
    },
    {
      "cell_type": "markdown",
      "metadata": {
        "hideCode": false,
        "hidePrompt": false,
        "id": "HUM8ssd7NGwN"
      },
      "source": [
        "What can you conclude about how lists are passed?"
      ]
    },
    {
      "cell_type": "markdown",
      "source": [
        "Lists can be passed as a variable, and a list in brackets. The lists are passed into functions, for example, double_values takes in things."
      ],
      "metadata": {
        "id": "m7l6LAQiLFHE"
      }
    },
    {
      "cell_type": "markdown",
      "metadata": {
        "hideCode": false,
        "hidePrompt": false,
        "id": "G2d2vd8mNGwN"
      },
      "source": [
        "## Equality and comparison"
      ]
    },
    {
      "cell_type": "markdown",
      "metadata": {
        "hideCode": false,
        "hidePrompt": false,
        "id": "0teNHhkMNGwN"
      },
      "source": [
        "The double equal sign (`==`) in Python is like Java's `.equals`. You use it for all the various types. There is also the \"`is`\" keyword, which is rarely used in Python, and means \"lives at the same memory address,\" like `==` for objects in Java!"
      ]
    },
    {
      "cell_type": "code",
      "execution_count": null,
      "metadata": {
        "colab": {
          "base_uri": "https://localhost:8080/"
        },
        "hideCode": false,
        "hidePrompt": false,
        "id": "MozOxylqNGwO",
        "outputId": "4efa0051-b1cb-4a0a-e1b2-2f07b4236f54"
      },
      "outputs": [
        {
          "data": {
            "text/plain": [
              "True"
            ]
          },
          "execution_count": 48,
          "metadata": {},
          "output_type": "execute_result"
        }
      ],
      "source": [
        "2 == 2.0"
      ]
    },
    {
      "cell_type": "markdown",
      "metadata": {
        "hideCode": false,
        "hidePrompt": false,
        "id": "mzm2jciLNGwO"
      },
      "source": [
        "Collections are compared by contents being equal and in the same order"
      ]
    },
    {
      "cell_type": "code",
      "execution_count": null,
      "metadata": {
        "colab": {
          "base_uri": "https://localhost:8080/"
        },
        "hideCode": false,
        "hidePrompt": false,
        "id": "YUx76OrENGwO",
        "outputId": "6887f995-1dca-42d6-f993-960cf757a169"
      },
      "outputs": [
        {
          "data": {
            "text/plain": [
              "True"
            ]
          },
          "execution_count": 49,
          "metadata": {},
          "output_type": "execute_result"
        }
      ],
      "source": [
        "L = list(range(3))\n",
        "L == [0, 1, 2.0]"
      ]
    },
    {
      "cell_type": "code",
      "execution_count": null,
      "metadata": {
        "id": "HT3ZBa8mA3LY",
        "outputId": "5211805c-f07d-4509-e28b-b016018478e0"
      },
      "outputs": [
        {
          "data": {
            "text/plain": [
              "False"
            ]
          },
          "execution_count": 50,
          "metadata": {},
          "output_type": "execute_result"
        }
      ],
      "source": [
        "foo = [1, 2, [3.0, 4.0, 5.0]]\n",
        "bar = [1, 2, [3, 4]]\n",
        "foo == bar"
      ]
    },
    {
      "cell_type": "markdown",
      "metadata": {
        "hideCode": false,
        "hidePrompt": false,
        "id": "XwOTD4T_NGwO"
      },
      "source": [
        "## Running Python non-interactively"
      ]
    },
    {
      "cell_type": "markdown",
      "metadata": {
        "hideCode": false,
        "hidePrompt": false,
        "id": "MjQi01TTNGwO"
      },
      "source": [
        "To use code written in another file, import it by its file name (it should be in the same directory or in a standard location where Python searches for packages).\n",
        "As an example, put the following function in a file called ```helper_functions.py```.  Make sure to use a code editor, e.g. kate, gedit, sublime, emacs, or vi/vim."
      ]
    },
    {
      "cell_type": "code",
      "execution_count": null,
      "metadata": {
        "hideCode": false,
        "hidePrompt": false,
        "id": "DRfkNGN3NGwO"
      },
      "outputs": [],
      "source": [
        "def gcd(x, y):\n",
        "    x, y = sorted([x, y])\n",
        "    return x if y % x == 0 else gcd(x, y % x)"
      ]
    },
    {
      "cell_type": "markdown",
      "metadata": {
        "id": "WYBBh4UNA3LZ"
      },
      "source": [
        "We will use a shortcut and do so programmatically:"
      ]
    },
    {
      "cell_type": "code",
      "execution_count": null,
      "metadata": {
        "id": "0LQtZPI_A3LZ"
      },
      "outputs": [],
      "source": [
        "import inspect\n",
        "with open('helper_functions.py', 'w') as outfile :\n",
        "    outfile.write(inspect.getsource(gcd))"
      ]
    },
    {
      "cell_type": "code",
      "execution_count": null,
      "metadata": {
        "id": "xmnEwocFA3La",
        "outputId": "9067bf40-7e2f-46d9-87c5-840427bfb510"
      },
      "outputs": [
        {
          "name": "stdout",
          "output_type": "stream",
          "text": [
            "helper_functions.py\r\n"
          ]
        }
      ],
      "source": [
        "# let's see that the file exists:\n",
        "!ls helper_functions.py"
      ]
    },
    {
      "cell_type": "markdown",
      "metadata": {
        "hideCode": false,
        "hidePrompt": false,
        "id": "_i7xAsTfNGwO"
      },
      "source": [
        "To use this function in the Python interpreter, open the  interpreter and import the module you created:\n",
        "```bash\n",
        "$ python\n",
        "```\n",
        "```python\n",
        ">>> import helper_functions\n",
        ">>> helper_functions.gcd(25, 15)\n",
        "```"
      ]
    },
    {
      "cell_type": "code",
      "execution_count": null,
      "metadata": {
        "id": "N8EGasPyA3La",
        "outputId": "ada93283-8bf7-48ca-93b8-28f729aac4e8"
      },
      "outputs": [
        {
          "data": {
            "text/plain": [
              "3"
            ]
          },
          "execution_count": 54,
          "metadata": {},
          "output_type": "execute_result"
        }
      ],
      "source": [
        "gcd(9,3)"
      ]
    },
    {
      "cell_type": "code",
      "execution_count": null,
      "metadata": {
        "id": "jqhhYrkcA3La",
        "outputId": "75d1cb5b-18b6-4ac9-9445-5bd3dfa4943d"
      },
      "outputs": [
        {
          "data": {
            "text/plain": [
              "42"
            ]
          },
          "execution_count": 55,
          "metadata": {},
          "output_type": "execute_result"
        }
      ],
      "source": [
        "gcd(42,42*8)"
      ]
    }
  ],
  "metadata": {
    "colab": {
      "collapsed_sections": [
        "GyqYJjkzNGwD",
        "RRQb0nptNGwE",
        "M2Ufan7uNGwG",
        "3Prmr_NHNGwH",
        "Ypp25xCKNGwI",
        "5bBgLI-8NGwI",
        "XwOTD4T_NGwO"
      ],
      "name": "module00_01_python_intro.ipynb",
      "provenance": []
    },
    "hide_code_all_hidden": false,
    "kernelspec": {
      "display_name": "Python 3 (ipykernel)",
      "language": "python",
      "name": "python3"
    },
    "language_info": {
      "codemirror_mode": {
        "name": "ipython",
        "version": 3
      },
      "file_extension": ".py",
      "mimetype": "text/x-python",
      "name": "python",
      "nbconvert_exporter": "python",
      "pygments_lexer": "ipython3",
      "version": "3.11.7"
    }
  },
  "nbformat": 4,
  "nbformat_minor": 0
}